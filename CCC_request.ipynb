{
  "cells": [
    {
      "cell_type": "markdown",
      "source": [
        "Setup for Google Colab"
      ],
      "metadata": {
        "id": "nJgpS6xBCIIJ"
      }
    },
    {
      "cell_type": "code",
      "source": [
        "!apt-get install openjdk-8-jdk-headless -qq > /dev/null\n",
        "!wget -q http://archive.apache.org/dist/spark/spark-3.1.1/spark-3.1.1-bin-hadoop3.2.tgz\n",
        "!tar xf spark-3.1.1-bin-hadoop3.2.tgz\n",
        "!pip install -q findspark\n",
        "!pip install boto3"
      ],
      "metadata": {
        "id": "H6DSDPSufQyT"
      },
      "execution_count": null,
      "outputs": []
    },
    {
      "cell_type": "code",
      "source": [
        "import os\n",
        "os.environ[\"JAVA_HOME\"] = \"/usr/lib/jvm/java-8-openjdk-amd64\"\n",
        "os.environ[\"SPARK_HOME\"] = \"/content/spark-3.1.1-bin-hadoop3.2\""
      ],
      "metadata": {
        "id": "C-Z0-h6ffSL2"
      },
      "execution_count": null,
      "outputs": []
    },
    {
      "cell_type": "code",
      "source": [
        "import findspark\n",
        "findspark.init()\n",
        "from pyspark.sql import SparkSession\n",
        "spark = SparkSession.builder.master(\"local[*]\").getOrCreate()\n",
        "spark.conf.set(\"spark.sql.repl.eagerEval.enabled\", True) # Property used to format output tables better\n",
        "spark"
      ],
      "metadata": {
        "colab": {
          "base_uri": "https://localhost:8080/",
          "height": 219
        },
        "id": "LUcZnOI6fSTn",
        "outputId": "c65291fc-1f10-4014-e6fe-b6ab31d7ec9f"
      },
      "execution_count": null,
      "outputs": [
        {
          "output_type": "execute_result",
          "data": {
            "text/plain": [
              "<pyspark.sql.session.SparkSession at 0x7ff64698ad10>"
            ],
            "text/html": [
              "\n",
              "            <div>\n",
              "                <p><b>SparkSession - in-memory</b></p>\n",
              "                \n",
              "        <div>\n",
              "            <p><b>SparkContext</b></p>\n",
              "\n",
              "            <p><a href=\"http://e52d06743f0e:4040\">Spark UI</a></p>\n",
              "\n",
              "            <dl>\n",
              "              <dt>Version</dt>\n",
              "                <dd><code>v3.1.1</code></dd>\n",
              "              <dt>Master</dt>\n",
              "                <dd><code>local[*]</code></dd>\n",
              "              <dt>AppName</dt>\n",
              "                <dd><code>pyspark-shell</code></dd>\n",
              "            </dl>\n",
              "        </div>\n",
              "        \n",
              "            </div>\n",
              "        "
            ]
          },
          "metadata": {},
          "execution_count": 3
        }
      ]
    },
    {
      "cell_type": "markdown",
      "source": [
        "Import libraries"
      ],
      "metadata": {
        "id": "zi9HxGMMCQdp"
      }
    },
    {
      "cell_type": "code",
      "execution_count": null,
      "metadata": {
        "id": "lsY5-avEfMNT"
      },
      "outputs": [],
      "source": [
        "import pyspark\n",
        "from pyspark.sql.functions import from_json, explode, flatten, collect_list\n",
        "from pyspark.sql.types import MapType, StringType, StructType, StructField\n",
        "import requests\n",
        "import json\n",
        "import time\n",
        "import os\n",
        "import boto3"
      ]
    },
    {
      "cell_type": "markdown",
      "source": [
        "Replace the API key, do not want to expose it to github"
      ],
      "metadata": {
        "id": "W8yQ_d3OCXfo"
      }
    },
    {
      "cell_type": "code",
      "execution_count": null,
      "metadata": {
        "id": "wyVjd3olfMNZ"
      },
      "outputs": [],
      "source": [
        "API_KEY = ''"
      ]
    },
    {
      "cell_type": "markdown",
      "source": [
        "NewsAPI Python client would make this part much easier. I used the requests library because of the assignment requirements.\n",
        "\n",
        "api = NewsApiClient(api_key=API_KEY) <br>\n",
        "api.get_top_headlines(language='en')"
      ],
      "metadata": {
        "id": "TWb7ewvsGyNh"
      }
    },
    {
      "cell_type": "markdown",
      "source": [
        "Get source ids and convert it to a python dict"
      ],
      "metadata": {
        "id": "r3hLqkokCf5Q"
      }
    },
    {
      "cell_type": "code",
      "source": [
        "en_sources = requests.get(f'https://newsapi.org/v2/top-headlines/sources?language=en&apiKey={API_KEY}')"
      ],
      "metadata": {
        "id": "hPhTr0cLvLyU"
      },
      "execution_count": null,
      "outputs": []
    },
    {
      "cell_type": "code",
      "source": [
        "en_sources_dict = json.loads(en_sources.text)['sources']"
      ],
      "metadata": {
        "id": "hcaqlgzPtvLM"
      },
      "execution_count": null,
      "outputs": []
    },
    {
      "cell_type": "markdown",
      "source": [
        "Need to manually define the schema because some sources' fields have only \"None\" values and cannot be inferred automatically"
      ],
      "metadata": {
        "id": "1BQSjBrN7Bb1"
      }
    },
    {
      "cell_type": "code",
      "source": [
        "schema = StructType([StructField(\"author\",StringType(), nullable = True), \n",
        "                StructField(\"content\",StringType(), nullable = True),\n",
        "                StructField(\"description\",StringType(), nullable = True),\n",
        "               StructField(\"publishedAt\",StringType(), nullable = True),\n",
        "               StructField(\"source\",MapType(StringType(),StringType()), nullable = True),\n",
        "               StructField(\"title\",StringType(), nullable = True),\n",
        "               StructField(\"url\",StringType(), nullable = True),\n",
        "               StructField(\"urlToImage\",StringType(), nullable = True)\n",
        "               ])"
      ],
      "metadata": {
        "id": "WR9paUTO5-U1"
      },
      "execution_count": null,
      "outputs": []
    },
    {
      "cell_type": "markdown",
      "source": [
        "Run it once with the first source to create a dataframe"
      ],
      "metadata": {
        "id": "5VSlB8vY1SVN"
      }
    },
    {
      "cell_type": "code",
      "source": [
        "source_id = en_sources_dict[0]['id']\n",
        "source_headlines = requests.get(f'https://newsapi.org/v2/top-headlines?sources={source_id}&apiKey={API_KEY}')\n",
        "source_articles = json.loads(source_headlines.text)['articles']\n",
        "df = spark.createDataFrame(source_articles, schema=schema)"
      ],
      "metadata": {
        "id": "HqXASWEg0jy2"
      },
      "execution_count": null,
      "outputs": []
    },
    {
      "cell_type": "markdown",
      "source": [
        "Run the rest in a loop and add to the dataframe. Every iteration fetches the articles from a specific source and adds it to the dataframe."
      ],
      "metadata": {
        "id": "fNyxY8g-1RTW"
      }
    },
    {
      "cell_type": "code",
      "source": [
        "for source in en_sources_dict[1:]:\n",
        "  source_id = source['id']\n",
        "  try:\n",
        "    source_headlines = requests.get(f'https://newsapi.org/v2/top-headlines?sources={source_id}&apiKey={API_KEY}')\n",
        "    source_articles = json.loads(source_headlines.text)['articles']\n",
        "    temp_df = spark.createDataFrame(source_articles, schema=schema)\n",
        "  except Exception as e:\n",
        "    print(source_id, '       ', e)\n",
        "\n",
        "  df = df.union(temp_df)"
      ],
      "metadata": {
        "id": "PHCEdyODtvos"
      },
      "execution_count": null,
      "outputs": []
    },
    {
      "cell_type": "code",
      "source": [
        "df.describe()"
      ],
      "metadata": {
        "colab": {
          "base_uri": "https://localhost:8080/",
          "height": 161
        },
        "id": "a5gJg-XdiBxX",
        "outputId": "92be0447-616d-481e-d64d-e22cfea16e6e"
      },
      "execution_count": null,
      "outputs": [
        {
          "output_type": "execute_result",
          "data": {
            "text/plain": [
              "+-------+--------------------+--------------------+--------------------+--------------------+--------------------+--------------------+--------------------+\n",
              "|summary|              author|             content|         description|         publishedAt|               title|                 url|          urlToImage|\n",
              "+-------+--------------------+--------------------+--------------------+--------------------+--------------------+--------------------+--------------------+\n",
              "|  count|                1234|                1366|                1432|                1456|                1456|                1456|                1391|\n",
              "|   mean|                null|                null|                null|                null|                null|                null|                null|\n",
              "| stddev|                null|                null|                null|                null|                null|                null|                null|\n",
              "|    min|                    |                    |                    |2018-10-05T19:53:...|\"Negev Summit\" hi...|http://business.f...|http://beta.ems.l...|\n",
              "|    max|https://www.engad...|“Saturday Night L...|﻿Jalen Reagor﻿ ca...|2022-04-03T19:52:...|‘We have survived...|https://www.wsj.c...|                null|\n",
              "+-------+--------------------+--------------------+--------------------+--------------------+--------------------+--------------------+--------------------+"
            ],
            "text/html": [
              "<table border='1'>\n",
              "<tr><th>summary</th><th>author</th><th>content</th><th>description</th><th>publishedAt</th><th>title</th><th>url</th><th>urlToImage</th></tr>\n",
              "<tr><td>count</td><td>1234</td><td>1366</td><td>1432</td><td>1456</td><td>1456</td><td>1456</td><td>1391</td></tr>\n",
              "<tr><td>mean</td><td>null</td><td>null</td><td>null</td><td>null</td><td>null</td><td>null</td><td>null</td></tr>\n",
              "<tr><td>stddev</td><td>null</td><td>null</td><td>null</td><td>null</td><td>null</td><td>null</td><td>null</td></tr>\n",
              "<tr><td>min</td><td></td><td></td><td></td><td>2018-10-05T19:53:...</td><td>&quot;Negev Summit&quot; hi...</td><td>http://business.f...</td><td>http://beta.ems.l...</td></tr>\n",
              "<tr><td>max</td><td>https://www.engad...</td><td>“Saturday Night L...</td><td>﻿Jalen Reagor﻿ ca...</td><td>2022-04-03T19:52:...</td><td>‘We have survived...</td><td>https://www.wsj.c...</td><td>null</td></tr>\n",
              "</table>\n"
            ]
          },
          "metadata": {},
          "execution_count": 19
        }
      ]
    },
    {
      "cell_type": "markdown",
      "source": [
        ""
      ],
      "metadata": {
        "id": "rmAd8FtEHo6I"
      }
    },
    {
      "cell_type": "markdown",
      "source": [
        "Explode the nested \"source\" column and merge the 2 rows about the same article"
      ],
      "metadata": {
        "id": "ctKt_eG4C14b"
      }
    },
    {
      "cell_type": "code",
      "execution_count": null,
      "metadata": {
        "id": "Mr5UxgRJfMNf"
      },
      "outputs": [],
      "source": [
        "df_flat = df.select([c for c in df.columns if c not in {'source'}] + [explode(df.source)])"
      ]
    },
    {
      "cell_type": "code",
      "execution_count": null,
      "metadata": {
        "colab": {
          "base_uri": "https://localhost:8080/"
        },
        "id": "dxCKoAqffMNf",
        "outputId": "2a0ac5f9-fd7e-4ec3-b4a0-0b45b34d7229"
      },
      "outputs": [
        {
          "output_type": "stream",
          "name": "stdout",
          "text": [
            "root\n",
            " |-- author: string (nullable = true)\n",
            " |-- content: string (nullable = true)\n",
            " |-- description: string (nullable = true)\n",
            " |-- publishedAt: string (nullable = true)\n",
            " |-- title: string (nullable = true)\n",
            " |-- url: string (nullable = true)\n",
            " |-- urlToImage: string (nullable = true)\n",
            " |-- key: string (nullable = false)\n",
            " |-- value: string (nullable = true)\n",
            "\n"
          ]
        }
      ],
      "source": [
        "df_flat.printSchema()"
      ]
    },
    {
      "cell_type": "code",
      "source": [
        "df_flat.take(4)"
      ],
      "metadata": {
        "colab": {
          "base_uri": "https://localhost:8080/"
        },
        "id": "G3vOthkUh2Oi",
        "outputId": "00642322-b6ef-4b20-9330-395bf6b2e528"
      },
      "execution_count": null,
      "outputs": [
        {
          "output_type": "execute_result",
          "data": {
            "text/plain": [
              "[Row(author='TALI ARBEL AP Technology Writer', content='Airlines have canceled more than 3,300 U.S. flights this weekend and delayed thousands more, citing weather in Florida and other issues.\\r\\nFlightAware, a website that tracks flights, noted major disru… [+1756 chars]', description='', publishedAt='2022-04-03T18:43:40Z', title='Airlines cancel more than 3,300 US flights over weekend', url='https://abcnews.go.com/Business/wireStory/airlines-cancel-3300-us-flights-weekend-83847532', urlToImage='https://s.abcnews.com/images/Travel/WireAP_983cc6f35ce34239a399f1d2b0f51614_16x9_992.jpg', key='name', value='ABC News'),\n",
              " Row(author='TALI ARBEL AP Technology Writer', content='Airlines have canceled more than 3,300 U.S. flights this weekend and delayed thousands more, citing weather in Florida and other issues.\\r\\nFlightAware, a website that tracks flights, noted major disru… [+1756 chars]', description='', publishedAt='2022-04-03T18:43:40Z', title='Airlines cancel more than 3,300 US flights over weekend', url='https://abcnews.go.com/Business/wireStory/airlines-cancel-3300-us-flights-weekend-83847532', urlToImage='https://s.abcnews.com/images/Travel/WireAP_983cc6f35ce34239a399f1d2b0f51614_16x9_992.jpg', key='id', value='abc-news'),\n",
              " Row(author='ANDREW SELSKY Associated Press', content='SALEM, Ore. -- Oregon voters approved a ballot measure in 2020 to decriminalize hard drugs after being told it was a way to establish and fund addiction recovery centers that would offer people aid i… [+7619 chars]', description='', publishedAt='2022-04-03T16:17:34Z', title=\"Oregon decriminalized drugs in 2020: How's it going?\", url='https://abcnews.go.com/Health/wireStory/oregon-decriminalized-drugs-2020-hows-83846382', urlToImage='https://s.abcnews.com/images/Health/WireAP_9bb36e4e19514472b0ebd44dda47927b_16x9_992.jpg', key='name', value='ABC News'),\n",
              " Row(author='ANDREW SELSKY Associated Press', content='SALEM, Ore. -- Oregon voters approved a ballot measure in 2020 to decriminalize hard drugs after being told it was a way to establish and fund addiction recovery centers that would offer people aid i… [+7619 chars]', description='', publishedAt='2022-04-03T16:17:34Z', title=\"Oregon decriminalized drugs in 2020: How's it going?\", url='https://abcnews.go.com/Health/wireStory/oregon-decriminalized-drugs-2020-hows-83846382', urlToImage='https://s.abcnews.com/images/Health/WireAP_9bb36e4e19514472b0ebd44dda47927b_16x9_992.jpg', key='id', value='abc-news')]"
            ]
          },
          "metadata": {},
          "execution_count": 22
        }
      ]
    },
    {
      "cell_type": "code",
      "source": [
        "df_flat = df_flat.drop('key')"
      ],
      "metadata": {
        "id": "phYCbTvZoP-M"
      },
      "execution_count": null,
      "outputs": []
    },
    {
      "cell_type": "code",
      "source": [
        "df_flat_grouped = df_flat.groupBy([c for c in df_flat.columns if c not in {'value'}]).agg(collect_list('value').alias('source'))"
      ],
      "metadata": {
        "id": "YyI6a4S6lFZV"
      },
      "execution_count": null,
      "outputs": []
    },
    {
      "cell_type": "code",
      "source": [
        "df_flat_grouped.printSchema()"
      ],
      "metadata": {
        "colab": {
          "base_uri": "https://localhost:8080/"
        },
        "id": "7vxlPoFYmjF-",
        "outputId": "baf3279d-7c82-46ab-cd59-896051d1f2fc"
      },
      "execution_count": null,
      "outputs": [
        {
          "output_type": "stream",
          "name": "stdout",
          "text": [
            "root\n",
            " |-- author: string (nullable = true)\n",
            " |-- content: string (nullable = true)\n",
            " |-- description: string (nullable = true)\n",
            " |-- publishedAt: string (nullable = true)\n",
            " |-- title: string (nullable = true)\n",
            " |-- url: string (nullable = true)\n",
            " |-- urlToImage: string (nullable = true)\n",
            " |-- source: array (nullable = false)\n",
            " |    |-- element: string (containsNull = false)\n",
            "\n"
          ]
        }
      ]
    },
    {
      "cell_type": "code",
      "source": [
        "df_flat_grouped.take(4)"
      ],
      "metadata": {
        "colab": {
          "base_uri": "https://localhost:8080/"
        },
        "id": "EHrfSr0GokZd",
        "outputId": "518a5c7b-eff3-41e9-807b-455c52d28b22"
      },
      "execution_count": null,
      "outputs": [
        {
          "output_type": "execute_result",
          "data": {
            "text/plain": [
              "[Row(author='Emily Stewart, Rebecca Heilweil', content='In times of crisis, there is no good; theres only a best course of action, given the circumstances. Is crypto good in the context of Russias invasion of Ukraine? Is it bad? Neutral? Its a hard questi… [+16905 chars]', description='From donations in bitcoin and crypto to Ukraine to concerns Russia might use cryptocurrency to get around sanctions, here’s how crypto is playing a role in the Russia-Ukraine war.', publishedAt='2022-03-01T11:00:00Z', title='Bitcoin and crypto are helping both sides in the Russia-Ukraine conflict', url='https://www.vox.com/recode/22955381/russia-ukraine-bitcoin-donation-war-crypto', urlToImage='https://cdn.vox-cdn.com/thumbor/Vx6YXtcklBjQAcCxzm9fyKqk72E=/0x155:3574x2026/fit-in/1200x630/cdn.vox-cdn.com/uploads/chorus_asset/file/23278239/GettyImages_1237956184.jpg', source=['Recode', 'recode', 'Recode', 'recode', 'Recode', 'recode']),\n",
              " Row(author=None, content='It could also shred the forecasts of Fed Chair Jerome Powell and other policymakers and the hopes of the Biden White House that price increases might begin to cool naturally as Fed and congressional … [+5057 chars]', description='The Fed is already expected to begin a campaign of interest rate increases next month in a bid to remove its support for economic growth amid a blistering job market and rapidly rising prices.', publishedAt='2022-02-24T14:49:27+00:00', title='Russia oil shock looms over Fed inflation fight', url='https://www.politico.com/news/2022/02/24/russian-oil-shock-looms-over-fed-fight-against-inflation-00011052', urlToImage='https://static.politico.com/78/f6/5cc9044d44d3b291825c298bb29e/us-gas-prices-12859.jpg', source=['Politico', 'politico']),\n",
              " Row(author='Football Italia Staff', content='Atalanta will not activate the option to buy Mattia Caldara, who returns to Milan.\\r\\nThe Rossoneri sent Caldara back to his former club on loan with an option to buy in January 2020, but the centre-ba… [+563 chars]', description='Atalanta will not activate the option to buy Mattia Caldara, who returns to Milan.', publishedAt='2021-05-25T01:00:00Z', title='Caldara returns to Milan', url='http://www.football-italia.net/171168/caldara-returns-milan', urlToImage='https://www.football-italia.net/sites/default/files/imagecache/main_photo/[type]/[nid]/caldara_1709_epa_3.jpg', source=['Football Italia', 'football-italia', 'Football Italia', 'football-italia']),\n",
              " Row(author='Fox News', content='Republican Maryland Gov. Larry Hogan derided Florida\\'s Parental Rights in Education bill as \"absurd\" Sunday, saying it would not have been passed in his state.\\r\\n\"I didn\\'t really actually see the deta… [+2460 chars]', description='Republican Maryland Gov. calls the Florida education bill \"absurd\" and slams Gov. Ron DeSantis for criticizing Disney who he says has a right to free speech.', publishedAt='2022-04-03T18:52:23.6970534Z', title=\"GOP Gov. Larry Hogan attacks Ron DeSantis, calls Florida parental rights bill 'absurd'\", url='https://www.foxnews.com/politics/larry-hogan-desantis-florida-education-bill-gay', urlToImage='https://static.foxnews.com/foxnews.com/content/uploads/2022/02/Hogan.jpg', source=['Fox News', 'fox-news', 'Fox News', 'fox-news'])]"
            ]
          },
          "metadata": {},
          "execution_count": 26
        }
      ]
    },
    {
      "cell_type": "code",
      "source": [
        "df_flat_grouped = df_flat_grouped.select([c for c in df_flat_grouped.columns if c not in {'source'}] + [df_flat_grouped.source[0], df_flat_grouped.source[1]])"
      ],
      "metadata": {
        "id": "WyuPPrMno8NG"
      },
      "execution_count": null,
      "outputs": []
    },
    {
      "cell_type": "code",
      "source": [
        "df_final = df_flat_grouped.withColumnRenamed('source[0]', 'source_name').withColumnRenamed('source[1]', 'source_id')"
      ],
      "metadata": {
        "id": "gtBfPvAlqKuk"
      },
      "execution_count": null,
      "outputs": []
    },
    {
      "cell_type": "code",
      "source": [
        "df_final.take(4)"
      ],
      "metadata": {
        "colab": {
          "base_uri": "https://localhost:8080/"
        },
        "id": "oeMEDpsIqdtK",
        "outputId": "4c63e1f1-ecd9-4fb3-be18-7b718ee2d5a9"
      },
      "execution_count": null,
      "outputs": [
        {
          "output_type": "execute_result",
          "data": {
            "text/plain": [
              "[Row(author='Emily Stewart, Rebecca Heilweil', content='In times of crisis, there is no good; theres only a best course of action, given the circumstances. Is crypto good in the context of Russias invasion of Ukraine? Is it bad? Neutral? Its a hard questi… [+16905 chars]', description='From donations in bitcoin and crypto to Ukraine to concerns Russia might use cryptocurrency to get around sanctions, here’s how crypto is playing a role in the Russia-Ukraine war.', publishedAt='2022-03-01T11:00:00Z', title='Bitcoin and crypto are helping both sides in the Russia-Ukraine conflict', url='https://www.vox.com/recode/22955381/russia-ukraine-bitcoin-donation-war-crypto', urlToImage='https://cdn.vox-cdn.com/thumbor/Vx6YXtcklBjQAcCxzm9fyKqk72E=/0x155:3574x2026/fit-in/1200x630/cdn.vox-cdn.com/uploads/chorus_asset/file/23278239/GettyImages_1237956184.jpg', source_name='Recode', source_id='recode'),\n",
              " Row(author=None, content='It could also shred the forecasts of Fed Chair Jerome Powell and other policymakers and the hopes of the Biden White House that price increases might begin to cool naturally as Fed and congressional … [+5057 chars]', description='The Fed is already expected to begin a campaign of interest rate increases next month in a bid to remove its support for economic growth amid a blistering job market and rapidly rising prices.', publishedAt='2022-02-24T14:49:27+00:00', title='Russia oil shock looms over Fed inflation fight', url='https://www.politico.com/news/2022/02/24/russian-oil-shock-looms-over-fed-fight-against-inflation-00011052', urlToImage='https://static.politico.com/78/f6/5cc9044d44d3b291825c298bb29e/us-gas-prices-12859.jpg', source_name='Politico', source_id='politico'),\n",
              " Row(author='Football Italia Staff', content='Atalanta will not activate the option to buy Mattia Caldara, who returns to Milan.\\r\\nThe Rossoneri sent Caldara back to his former club on loan with an option to buy in January 2020, but the centre-ba… [+563 chars]', description='Atalanta will not activate the option to buy Mattia Caldara, who returns to Milan.', publishedAt='2021-05-25T01:00:00Z', title='Caldara returns to Milan', url='http://www.football-italia.net/171168/caldara-returns-milan', urlToImage='https://www.football-italia.net/sites/default/files/imagecache/main_photo/[type]/[nid]/caldara_1709_epa_3.jpg', source_name='Football Italia', source_id='football-italia'),\n",
              " Row(author='Fox News', content='Republican Maryland Gov. Larry Hogan derided Florida\\'s Parental Rights in Education bill as \"absurd\" Sunday, saying it would not have been passed in his state.\\r\\n\"I didn\\'t really actually see the deta… [+2460 chars]', description='Republican Maryland Gov. calls the Florida education bill \"absurd\" and slams Gov. Ron DeSantis for criticizing Disney who he says has a right to free speech.', publishedAt='2022-04-03T18:52:23.6970534Z', title=\"GOP Gov. Larry Hogan attacks Ron DeSantis, calls Florida parental rights bill 'absurd'\", url='https://www.foxnews.com/politics/larry-hogan-desantis-florida-education-bill-gay', urlToImage='https://static.foxnews.com/foxnews.com/content/uploads/2022/02/Hogan.jpg', source_name='Fox News', source_id='fox-news')]"
            ]
          },
          "metadata": {},
          "execution_count": 29
        }
      ]
    },
    {
      "cell_type": "markdown",
      "source": [
        "The data is flattened and ready to be exported to 1 csv file"
      ],
      "metadata": {
        "id": "rs8On283DcgD"
      }
    },
    {
      "cell_type": "code",
      "execution_count": null,
      "metadata": {
        "id": "9CiQv1KyfMNf"
      },
      "outputs": [],
      "source": [
        "df_final.coalesce(1).write.option('header','true').csv('en_headlines')"
      ]
    },
    {
      "cell_type": "markdown",
      "source": [
        "Rename the csv file created under the folder \"en_headlines\""
      ],
      "metadata": {
        "id": "LgyTy69gDlRh"
      }
    },
    {
      "cell_type": "code",
      "source": [
        "ts = time.time()\n",
        "csv_name = [filename for filename in os.listdir('./en_headlines') if filename.endswith('csv')][0]\n",
        "os.rename(f'./en_headlines/{csv_name}', f'./en_headlines/{ts}_headlines.csv')"
      ],
      "metadata": {
        "id": "181-mWp7-kUW"
      },
      "execution_count": null,
      "outputs": []
    },
    {
      "cell_type": "markdown",
      "source": [
        "Autenticate and upload to s3 bucket\n",
        "(Did not want to give my credit card info so no aws account to check if it actually works, but I'm pretty sure it does)"
      ],
      "metadata": {
        "id": "CanoVvLcDxHQ"
      }
    },
    {
      "cell_type": "code",
      "source": [
        "client = boto3.client(\n",
        "    's3',\n",
        "    aws_access_key_id=ACCESS_KEY,\n",
        "    aws_secret_access_key=SECRET_KEY,\n",
        "    aws_session_token=SESSION_TOKEN\n",
        ")\n",
        "\n",
        "file_name = f'./en_headlines/{ts}_headlines.csv'\n",
        "bucket = 's3_bucket'\n",
        "object_name = f'en/{ts}_headlines.csv'\n",
        "\n",
        "response = client.upload_file(file_name, bucket, object_name)"
      ],
      "metadata": {
        "id": "OkMMFtIR948J"
      },
      "execution_count": null,
      "outputs": []
    },
    {
      "cell_type": "code",
      "source": [
        ""
      ],
      "metadata": {
        "id": "5jZDT42y8Z51"
      },
      "execution_count": null,
      "outputs": []
    }
  ],
  "metadata": {
    "interpreter": {
      "hash": "57f8e41cedbefd02b39cf34d982f97b89d6125ae16cd1e833b432eff6f0c9f75"
    },
    "kernelspec": {
      "display_name": "Python 3.9.6 ('venv': venv)",
      "language": "python",
      "name": "python3"
    },
    "language_info": {
      "codemirror_mode": {
        "name": "ipython",
        "version": 3
      },
      "file_extension": ".py",
      "mimetype": "text/x-python",
      "name": "python",
      "nbconvert_exporter": "python",
      "pygments_lexer": "ipython3",
      "version": "3.9.6"
    },
    "orig_nbformat": 4,
    "colab": {
      "name": "CCC_request.ipynb",
      "provenance": [],
      "collapsed_sections": []
    }
  },
  "nbformat": 4,
  "nbformat_minor": 0
}